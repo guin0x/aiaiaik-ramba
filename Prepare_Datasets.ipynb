{
 "cells": [
  {
   "cell_type": "markdown",
   "metadata": {},
   "source": [
    "# Notebook to prepare datasets"
   ]
  },
  {
   "cell_type": "code",
   "execution_count": 3,
   "metadata": {},
   "outputs": [],
   "source": [
    "import torch\n",
    "import preprocessing.dataset_generation as dg\n",
    "from pathlib import Path"
   ]
  },
  {
   "cell_type": "code",
   "execution_count": 4,
   "metadata": {},
   "outputs": [
    {
     "name": "stdout",
     "output_type": "stream",
     "text": [
      "CUDA Device Count:  1\n",
      "CUDA Device Name:  NVIDIA GeForce RTX 3050 Laptop GPU\n",
      "Using device: cuda:0\n"
     ]
    }
   ],
   "source": [
    "if torch.cuda.is_available():\n",
    "    device = torch.device('cuda:0')\n",
    "    print(\"CUDA Device Count: \", torch.cuda.device_count())\n",
    "    print(\"CUDA Device Name: \", torch.cuda.get_device_name(0))\n",
    "else:\n",
    "    device = 'cpu'\n",
    "    \n",
    "print(f'Using device: {device}')"
   ]
  },
  {
   "cell_type": "code",
   "execution_count": 5,
   "metadata": {},
   "outputs": [],
   "source": [
    "# set common keys required for functions\n",
    "\n",
    "train = 'training'\n",
    "val = 'validation'\n",
    "test = 'testing'"
   ]
  },
  {
   "cell_type": "code",
   "execution_count": 20,
   "metadata": {},
   "outputs": [
    {
     "name": "stdout",
     "output_type": "stream",
     "text": [
      "Processing folder 29/1: JRC_GSW1_4_MonthlyHistory_validation_r1\n"
     ]
    },
    {
     "name": "stderr",
     "output_type": "stream",
     "text": [
      "c:\\Users\\gui-win10\\miniconda3\\envs\\aiaiai_env\\lib\\site-packages\\osgeo\\gdal.py:311: FutureWarning: Neither gdal.UseExceptions() nor gdal.DontUseExceptions() has been explicitly called. In GDAL 4.0, exceptions will be enabled by default.\n",
      "  warnings.warn(\n",
      "c:\\Users\\gui-win10\\Code\\aiaiaik-ramba\\preprocessing\\dataset_generation.py:248: UserWarning: Creating a tensor from a list of numpy.ndarrays is extremely slow. Please consider converting the list to a single numpy.ndarray with numpy.array() before converting to a tensor. (Triggered internally at C:\\cb\\pytorch_1000000000000\\work\\torch\\csrc\\utils\\tensor_new.cpp:281.)\n",
      "  torch.tensor(inputs, dtype=torch.float32, device=device)\n"
     ]
    },
    {
     "name": "stdout",
     "output_type": "stream",
     "text": [
      "Finished processing folders.\n",
      "Finmisehd stacking input tensors.\n",
      "Finished stacking target tensors.\n",
      "Validation set prepared\n",
      "Processing folder 0/1: JRC_GSW1_4_MonthlyHistory_testing_r1\n",
      "Finished processing folders.\n",
      "Finmisehd stacking input tensors.\n",
      "Finished stacking target tensors.\n",
      "Test set prepared\n"
     ]
    }
   ],
   "source": [
    "# by default March images are used - if another month is used change the number (available months: 1-4)\n",
    "\n",
    "dataset_path = r'data\\satellite\\dataset_month3' \n",
    "ndvi_path = r'data\\ndvi\\output_NDVI'\\\n",
    "\n",
    "dataset_path_prep = Path(dataset_path)\n",
    "ndvi_path_Path = Path(ndvi_path)\n",
    "\n",
    "dtype=torch.float32\n",
    "\n",
    "train_set = dg.prepare_3d_dataset_with_ndvi(train, binary_dir=dataset_path_prep,\n",
    "                                              ndvi_dir=ndvi_path, device=device, dtype=dtype)\n",
    "\n",
    "print(\"Train set prepared\")\n",
    "\n",
    "val_set = dg.prepare_3d_dataset_with_ndvi(val, binary_dir=dataset_path_prep,\n",
    "                                                ndvi_dir=ndvi_path_Path, device=device, dtype=dtype)\n",
    "\n",
    "print(\"Validation set prepared\")\n",
    "\n",
    "test_set = dg.prepare_3d_dataset_with_ndvi(test, binary_dir=dataset_path_prep,\n",
    "                                                    ndvi_dir=ndvi_path_Path, device=device, dtype=dtype)\n",
    "\n",
    "print(\"Test set prepared\")"
   ]
  },
  {
   "cell_type": "code",
   "execution_count": 22,
   "metadata": {},
   "outputs": [],
   "source": [
    "def save_with_hdf5(tensor_dataset, name):\n",
    "    \"\"\"\n",
    "    Save tensor data in HDF5 with gzip compression\n",
    "    \"\"\"\n",
    "    features, labels = tensor_dataset.tensors\n",
    "    with h5py.File(f\"data/{name}.h5\", \"w\") as f:\n",
    "        f.create_dataset(\"features\", data=features.numpy(), compression=\"gzip\")\n",
    "        f.create_dataset(\"labels\", data=labels.numpy(), compression=\"gzip\")\n",
    "\n",
    "    print(f\"Saved {name} dataset with HDF5.\")\n",
    "\n"
   ]
  },
  {
   "cell_type": "code",
   "execution_count": null,
   "metadata": {},
   "outputs": [],
   "source": [
    "save_with_hdf5(train_set, \"train_set\")\n",
    "save_with_hdf5(val_set, \"val_set\")\n",
    "save_with_hdf5(test_set, \"test_set\")"
   ]
  }
 ],
 "metadata": {
  "kernelspec": {
   "display_name": "aiaiai_env",
   "language": "python",
   "name": "python3"
  },
  "language_info": {
   "codemirror_mode": {
    "name": "ipython",
    "version": 3
   },
   "file_extension": ".py",
   "mimetype": "text/x-python",
   "name": "python",
   "nbconvert_exporter": "python",
   "pygments_lexer": "ipython3",
   "version": "3.9.21"
  }
 },
 "nbformat": 4,
 "nbformat_minor": 2
}
