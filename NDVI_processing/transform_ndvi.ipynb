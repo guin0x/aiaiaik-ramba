{
 "cells": [
  {
   "cell_type": "markdown",
   "metadata": {},
   "source": [
    "## Transformation notebook - MORPH1:\n",
    "Use this notebook and the functions in `image_analysis.py` and `satellite_analysis.py` to rotate and rescale the .tif files to match the water classification binary data."
   ]
  },
  {
   "cell_type": "code",
   "execution_count": 2,
   "metadata": {},
   "outputs": [],
   "source": [
    "# Load necessary functions and packages\n",
    "from images_analysis import *\n",
    "from satellite_analysis_pre import *\n",
    "import numpy as np\n",
    "import rasterio as rio\n"
   ]
  },
  {
   "cell_type": "markdown",
   "metadata": {},
   "source": [
    "### Set-up additional functions and test the functions"
   ]
  },
  {
   "cell_type": "code",
   "execution_count": null,
   "metadata": {},
   "outputs": [],
   "source": [
    "# Import single image for test:\n",
    "from PIL import Image\n",
    "im = Image.open('../data/training_r14/1990_training_r14.tif')\n",
    "plt.imshow(im)"
   ]
  },
  {
   "cell_type": "code",
   "execution_count": null,
   "metadata": {},
   "outputs": [],
   "source": [
    "# Check if the function to get angle rotation works:\n",
    "get_angle_rotation(im)"
   ]
  },
  {
   "cell_type": "code",
   "execution_count": null,
   "metadata": {},
   "outputs": [],
   "source": [
    "# Check whether rotation function works:\n",
    "rotate_images(im)"
   ]
  },
  {
   "cell_type": "code",
   "execution_count": null,
   "metadata": {},
   "outputs": [],
   "source": [
    "# Function to get all the .tif file paths in the folder\n",
    "def get_all_file_paths(folder_path):\n",
    "    \"\"\"\n",
    "    Get all .tif file paths within a folder, including those in subdirectories.\n",
    "    \n",
    "    :param folder_path: Path to the folder\n",
    "    :return: A list of .tif file paths within the folder\n",
    "    \"\"\"\n",
    "    file_paths = []\n",
    "    \n",
    "    for root, _, files in os.walk(folder_path):\n",
    "        for file in files:\n",
    "            if file.endswith('.tif'):  # Check if the file has a .tif extension\n",
    "                file_paths.append(os.path.join(root, file))\n",
    "    \n",
    "    return file_paths\n",
    "\n",
    "# Check whether it works\n",
    "folder = \"G:\\Landsat_river\\ndvi_final\\output_NDVI\" \n",
    "files = get_all_file_paths(folder)\n",
    "print(files)"
   ]
  },
  {
   "cell_type": "code",
   "execution_count": 22,
   "metadata": {},
   "outputs": [],
   "source": [
    "# Testing cell for algorithm, disable if needed\n",
    "preprocess_images('training_r14\\\\1994_training_r14.tif', desired_shape=(1000, 500),  reshape_img=True, new_padded_class=None, \n",
    "            input_f='training_r14', \n",
    "            output_f='preprocessed_training_r14')"
   ]
  },
  {
   "cell_type": "code",
   "execution_count": 30,
   "metadata": {},
   "outputs": [],
   "source": [
    "# Initialise empty folders for paths\n",
    "folder_path = []    # Stores list of all the folder paths\n",
    "file_paths = []     # Stores lists of all .tif file paths\n",
    "\n",
    "# Collect folder names and file paths\n",
    "for i in range(1, 29):\n",
    "    folder_name = f'training_r{i}'\n",
    "    folder_path.append(folder_name)\n",
    "    file_paths.append(get_all_file_paths(folder_name))  # Collect all files in the folder\n",
    "\n",
    "# Process each file\n",
    "for i in range(0, 28):  # Matches the 28 folders (adjusted for 0-based index)\n",
    "    for file_path in file_paths[i]:  # Iterates over each file in the current folder\n",
    "        preprocess_images(\n",
    "            input_path=file_path, \n",
    "            desired_shape=(1000, 500), \n",
    "            reshape_img=True, \n",
    "            new_padded_class=None, \n",
    "            input_f=folder_path[i], \n",
    "            output_f=f'postprocess_training_r{i+1}'  # Use i+1 to keep the folder naming consistent\n",
    "        )"
   ]
  },
  {
   "cell_type": "code",
   "execution_count": null,
   "metadata": {},
   "outputs": [],
   "source": [
    "file_paths"
   ]
  },
  {
   "cell_type": "code",
   "execution_count": null,
   "metadata": {},
   "outputs": [],
   "source": []
  }
 ],
 "metadata": {
  "kernelspec": {
   "display_name": "aiaiai_env",
   "language": "python",
   "name": "python3"
  },
  "language_info": {
   "codemirror_mode": {
    "name": "ipython",
    "version": 3
   },
   "file_extension": ".py",
   "mimetype": "text/x-python",
   "name": "python",
   "nbconvert_exporter": "python",
   "pygments_lexer": "ipython3",
   "version": "3.9.21"
  }
 },
 "nbformat": 4,
 "nbformat_minor": 2
}
