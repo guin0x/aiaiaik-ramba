{
 "cells": [
  {
   "cell_type": "code",
   "execution_count": null,
   "id": "7cb0c892-bce2-469f-83b3-983e0446a49b",
   "metadata": {},
   "outputs": [],
   "source": [
    "import os\n",
    "import random\n",
    "import rasterio\n",
    "import csv\n",
    "import re\n",
    "\n"
   ]
  },
  {
   "cell_type": "code",
   "execution_count": null,
   "id": "767f4de8-fdbd-427b-9dff-45d64480443f",
   "metadata": {},
   "outputs": [],
   "source": [
    "# Input folder containing subfolders\n",
    "input_folder = \"./data/satellite/original/\"  # Relative path to the input folder\n",
    "output_folder = \"./points\"  # Relative path to the output folder\n",
    "os.makedirs(output_folder, exist_ok=True)\n",
    "\n",
    "# Traverse each subfolder\n",
    "for subfolder in os.listdir(input_folder):\n",
    "    subfolder_path = os.path.join(input_folder, subfolder)\n",
    "    if os.path.isdir(subfolder_path):\n",
    "        # List all .tif files in the subfolder\n",
    "        tif_files = [f for f in os.listdir(subfolder_path) if f.endswith('.tif')]\n",
    "        \n",
    "        if tif_files:\n",
    "            # Randomly pick a .tif file\n",
    "            selected_file = random.choice(tif_files)\n",
    "            raster_path = os.path.join(subfolder_path, selected_file)\n",
    "            print(f\"Processing {raster_path}\")\n",
    "            \n",
    "            # Open the raster and extract points\n",
    "            with rasterio.open(raster_path) as src:\n",
    "                # Get raster dimensions and transform\n",
    "                transform = src.transform\n",
    "                rows, cols = src.height, src.width\n",
    "                \n",
    "                # Create a TXT file for output\n",
    "                output_file = os.path.join(output_folder, f\"{os.path.splitext(selected_file)[0]}_grid.txt\")\n",
    "                with open(output_file, mode='w', newline='') as txt_file:\n",
    "                    writer = csv.writer(txt_file, delimiter=',')\n",
    "                    # Write header\n",
    "                    writer.writerow([\"X\", \"Y\"])\n",
    "                    \n",
    "                    # Write pixel coordinates\n",
    "                    for row in range(rows):\n",
    "                        for col in range(cols):\n",
    "                            x, y = rasterio.transform.xy(transform, row, col, offset=\"center\")\n",
    "                            writer.writerow([x, y])\n",
    "                \n",
    "                print(f\"Saved grid points to {output_file}\")"
   ]
  },
  {
   "cell_type": "code",
   "execution_count": null,
   "id": "e5f86315-8fa9-4a77-9b1a-e7a1f2907e02",
   "metadata": {},
   "outputs": [],
   "source": [
    "# Directory containing the TXT files\n",
    "points_folder = \"./points/\"\n",
    "\n",
    "# Loop through all files in the directory\n",
    "for file_name in os.listdir(points_folder):\n",
    "    if file_name.endswith('.txt'):  # Only process .txt files\n",
    "        # Use regex to match and extract the desired part of the filename\n",
    "        match = re.search(r\"(training|testing|validation).*\", file_name)\n",
    "        if match:\n",
    "            # Extract the part of the filename starting from the matched word\n",
    "            new_name = match.group(0)\n",
    "            \n",
    "            # Full paths for renaming\n",
    "            old_path = os.path.join(points_folder, file_name)\n",
    "            new_path = os.path.join(points_folder, new_name)\n",
    "            \n",
    "            # Rename the file\n",
    "            os.rename(old_path, new_path)\n",
    "            print(f\"Renamed: {file_name} -> {new_name}\")"
   ]
  }
 ],
 "metadata": {
  "kernelspec": {
   "display_name": "Python 3 (ipykernel)",
   "language": "python",
   "name": "python3"
  },
  "language_info": {
   "codemirror_mode": {
    "name": "ipython",
    "version": 3
   },
   "file_extension": ".py",
   "mimetype": "text/x-python",
   "name": "python",
   "nbconvert_exporter": "python",
   "pygments_lexer": "ipython3",
   "version": "3.11.6"
  }
 },
 "nbformat": 4,
 "nbformat_minor": 5
}
